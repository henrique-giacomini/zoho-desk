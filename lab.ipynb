{
 "cells": [
  {
   "cell_type": "markdown",
   "metadata": {},
   "source": [
    "# Interface ZohoDesk"
   ]
  },
  {
   "cell_type": "markdown",
   "metadata": {},
   "source": [
    "## Dependências"
   ]
  },
  {
   "cell_type": "code",
   "execution_count": 1,
   "metadata": {},
   "outputs": [],
   "source": [
    "import pandas\n",
    "import requests as httpx\n",
    "from typing import Dict"
   ]
  },
  {
   "cell_type": "markdown",
   "metadata": {},
   "source": [
    "## _getOauthToken_ "
   ]
  },
  {
   "cell_type": "code",
   "execution_count": null,
   "metadata": {},
   "outputs": [],
   "source": [
    "def get_Zoho_Oauthtoken(\n",
    "    client_id: str = '1000.T6LDKB524O263IW5YWAH741EGWJ0OV',\n",
    "    client_secret: str = 'f4271109effcb2e4ca78d227ccf854e881089e8270',\n",
    "    code: str = None\n",
    ") -> object:\n",
    "    \"\"\"Retorna um objeto _reponse_ contendo o Zoho_Oauthtoken\n",
    "\n",
    "    Parameters\n",
    "    ----------\n",
    "    client_id: str\n",
    "    client_secret: str\n",
    "     code: str\n",
    "\n",
    "    Returns\n",
    "    -------\n",
    "    ZohoOauthtoken: object\n",
    "    \"\"\"\n",
    "    auth_url = 'https://accounts.zoho.com/oauth/v2/token'\n",
    "    params = {\n",
    "        'code': code,\n",
    "        'client_id': client_id,\n",
    "        'client_secret': client_secret,\n",
    "        'grant_type':  \t'authorization_code',\n",
    "        'redirect_uri': ''\n",
    "    }\n",
    "\n",
    "    r = httpx.post(url=auth_url, params=params)\n",
    "\n",
    "    if r.status_code == 200:\n",
    "        return r"
   ]
  },
  {
   "cell_type": "code",
   "execution_count": 3,
   "metadata": {},
   "outputs": [],
   "source": [
    "acess_token = get_Zoho_Oauthtoken(\n",
    "    code='1000.5303733e5572fb225ecd30e7c1c61972.9c60d72644329290e72268cc06bd6eb9')"
   ]
  },
  {
   "cell_type": "markdown",
   "metadata": {},
   "source": [
    "## _getDeskEntity_"
   ]
  },
  {
   "cell_type": "code",
   "execution_count": 2,
   "metadata": {},
   "outputs": [],
   "source": [
    "def get_interface(\n",
    "    oauth_token: str = None,\n",
    "    interface: str = None,\n",
    "    query_params: Dict[str, str] = None,\n",
    "    service: str = None\n",
    ") -> object:\n",
    "    \"\"\"Requisita um _endpoint_ da API do Zoho Desk\n",
    "\n",
    "    Parameters\n",
    "    ----------\n",
    "    oauth_token: str\n",
    "    interface: str, \n",
    "    query_params: str, \n",
    "    service: str\n",
    "\n",
    "    Returns\n",
    "\n",
    "    response: object\n",
    "    -------\n",
    "    \"\"\"\n",
    "    url = f'https://desk.zoho.com/api/v1/{interface}'\n",
    "    headers = {\n",
    "        \"authorization\": f\"Zoho-Oauthtoken {oauth_token}\"\n",
    "    }\n",
    "    r = httpx.get(url=url, headers=headers, params=query_params)\n",
    "\n",
    "    if r.status_code == 200:\n",
    "        return r"
   ]
  },
  {
   "cell_type": "code",
   "execution_count": 6,
   "metadata": {},
   "outputs": [
    {
     "ename": "KeyError",
     "evalue": "'access_token'",
     "output_type": "error",
     "traceback": [
      "\u001b[1;31m---------------------------------------------------------------------------\u001b[0m",
      "\u001b[1;31mKeyError\u001b[0m                                  Traceback (most recent call last)",
      "\u001b[1;32mc:\\Users\\55359\\projects\\zoho-desk\\api\\lab.ipynb Cell 6\u001b[0m in \u001b[0;36m<cell line: 1>\u001b[1;34m()\u001b[0m\n\u001b[1;32m----> <a href='vscode-notebook-cell:/c%3A/Users/55359/projects/zoho-desk/api/lab.ipynb#W5sZmlsZQ%3D%3D?line=0'>1</a>\u001b[0m response \u001b[39m=\u001b[39m get_interface(oauth_token\u001b[39m=\u001b[39macess_token\u001b[39m.\u001b[39;49mjson()[\n\u001b[0;32m      <a href='vscode-notebook-cell:/c%3A/Users/55359/projects/zoho-desk/api/lab.ipynb#W5sZmlsZQ%3D%3D?line=1'>2</a>\u001b[0m                          \u001b[39m'\u001b[39;49m\u001b[39maccess_token\u001b[39;49m\u001b[39m'\u001b[39;49m], interface\u001b[39m=\u001b[39m\u001b[39m'\u001b[39m\u001b[39mtickets\u001b[39m\u001b[39m'\u001b[39m)\n",
      "\u001b[1;31mKeyError\u001b[0m: 'access_token'"
     ]
    }
   ],
   "source": [
    "response = get_interface(oauth_token=acess_token.json()[\n",
    "                         'access_token'], interface='tickets')"
   ]
  },
  {
   "cell_type": "markdown",
   "metadata": {},
   "source": [
    "# POO"
   ]
  },
  {
   "cell_type": "code",
   "execution_count": null,
   "metadata": {},
   "outputs": [],
   "source": [
    "class ZohoDesk:\n",
    "    \"\"\"\"\"\"\n",
    "    client_id: str = '1000.T6LDKB524O263IW5YWAH741EGWJ0OV',\n",
    "    client_secret: str = 'f4271109effcb2e4ca78d227ccf854e881089e8270'\n",
    "\n",
    "    def get_Zoho_Oauthtoken(\n",
    "        client_id: str = client_id,\n",
    "        client_secret: str = client_secret,\n",
    "        code: str = None\n",
    "    ) -> object:\n",
    "        \"\"\"Requests Zoho Oauthtoken \n",
    "\n",
    "        Parameters\n",
    "        ----------\n",
    "        client_id: str\n",
    "        client_secret: str\n",
    "        code: str\n",
    "\n",
    "        Returns\n",
    "        -------\n",
    "        ZohoOauthtoken: object\n",
    "        \"\"\"\n",
    "        auth_url = 'https://accounts.zoho.com/oauth/v2/token'\n",
    "        params = {\n",
    "            'code': code,\n",
    "            'client_id': client_id,\n",
    "            'client_secret': client_secret,\n",
    "            'grant_type':  \t'authorization_code',\n",
    "            'redirect_uri': ''\n",
    "        }\n",
    "\n",
    "        r = httpx.post(url=auth_url, params=params)\n",
    "\n",
    "        if r.status_code == 200:\n",
    "            return r\n",
    "\n",
    "    def get_interface(\n",
    "        oauth_token: str = None,\n",
    "        interface: str = None,\n",
    "        query_params: Dict[str, str] = None,\n",
    "        service: str = None\n",
    "    ) -> object:\n",
    "        \"\"\"Resquests an _endpoint_ from Zoho Desk API\n",
    "\n",
    "        Parameters\n",
    "        ----------\n",
    "        oauth_token: str\n",
    "        interface: str, \n",
    "        query_params: str, \n",
    "        service: str\n",
    "\n",
    "        Returns\n",
    "        -------\n",
    "        response: object\n",
    "\n",
    "        \"\"\"\n",
    "        url = f'https://desk.zoho.com/api/v1/{interface}'\n",
    "        headers = {\n",
    "            \"authorization\": f\"Zoho-Oauthtoken {oauth_token}\"\n",
    "        }\n",
    "        r = httpx.get(url=url, headers=headers, params=query_params)\n",
    "\n",
    "        if r.status_code == 200:\n",
    "            return r"
   ]
  },
  {
   "cell_type": "code",
   "execution_count": null,
   "metadata": {},
   "outputs": [],
   "source": [
    "api = ZohoDesk()"
   ]
  },
  {
   "cell_type": "code",
   "execution_count": 28,
   "metadata": {},
   "outputs": [],
   "source": [
    "api.get_Zoho_Oauthtoken(\n",
    "    code='1000.5303733e5572fb225ecd30e7c1c61972.9c60d72644329290e72268cc06bd6eb9')"
   ]
  },
  {
   "cell_type": "code",
   "execution_count": null,
   "metadata": {},
   "outputs": [],
   "source": []
  }
 ],
 "metadata": {
  "kernelspec": {
   "display_name": "Python 3",
   "language": "python",
   "name": "python3"
  },
  "language_info": {
   "codemirror_mode": {
    "name": "ipython",
    "version": 3
   },
   "file_extension": ".py",
   "mimetype": "text/x-python",
   "name": "python",
   "nbconvert_exporter": "python",
   "pygments_lexer": "ipython3",
   "version": "3.10.4"
  },
  "orig_nbformat": 4
 },
 "nbformat": 4,
 "nbformat_minor": 2
}
