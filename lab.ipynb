{
 "cells": [
  {
   "cell_type": "markdown",
   "metadata": {},
   "source": [
    "# Interface ZohoDesk"
   ]
  },
  {
   "cell_type": "code",
   "execution_count": 11,
   "metadata": {},
   "outputs": [],
   "source": [
    "import pandas\n",
    "import requests as httpx\n",
    "from typing import Dict"
   ]
  },
  {
   "cell_type": "code",
   "execution_count": 13,
   "metadata": {},
   "outputs": [],
   "source": [
    "\n",
    "def get_Zoho_Oauthtoken(\n",
    "    client_id: str = '1000.T6LDKB524O263IW5YWAH741EGWJ0OV',\n",
    "    client_secret: str = 'f4271109effcb2e4ca78d227ccf854e881089e8270',\n",
    "    code: str = None\n",
    ") -> object:\n",
    "    \"\"\"Retorna um objeto _reponse_ contendo o Zoho_Oauthtoken\n",
    "\n",
    "    Parameters\n",
    "    ----------\n",
    "    client_id: str\n",
    "    client_secret: str\n",
    "     code: str\n",
    "\n",
    "    Returns\n",
    "    -------\n",
    "    ZohoOauthtoken: object\n",
    "    \"\"\"\n",
    "    auth_url = 'https://accounts.zoho.com/oauth/v2/token'\n",
    "    params = {\n",
    "        'code': code,\n",
    "        'client_id': client_id,\n",
    "        'client_secret': client_secret,\n",
    "        'grant_type':  \t'authorization_code',\n",
    "        'redirect_uri': ''\n",
    "    }\n",
    "\n",
    "    r = httpx.post(url=auth_url, params=params)\n",
    "\n",
    "    if r.status_code == 200:\n",
    "        return r\n",
    "\n",
    "\n",
    "def get_interface(\n",
    "    oauth_token: str = None,\n",
    "    interface: str = None,\n",
    "    query_params: Dict[str, str] = None,\n",
    "    service: str = None\n",
    ") -> object:\n",
    "    \"\"\"Requisita um _endpoint_ da API do Zoho Desk\n",
    "\n",
    "    Parameters\n",
    "    ----------\n",
    "    oauth_token: str\n",
    "    interface: str, \n",
    "    query_params: str, \n",
    "    service: str\n",
    "\n",
    "    Returns\n",
    "\n",
    "    response: object\n",
    "    -------\n",
    "    \"\"\"\n",
    "    url = f'https://desk.zoho.com/api/v1/{interface}'\n",
    "    headers = {\n",
    "        \"authorization\": f\"Zoho-Oauthtoken {oauth_token}\"\n",
    "    }\n",
    "    r = httpx.get(url=url, headers=headers, params=query_params)\n",
    "\n",
    "    if r.status_code == 200:\n",
    "        return r"
   ]
  },
  {
   "cell_type": "code",
   "execution_count": 14,
   "metadata": {},
   "outputs": [],
   "source": [
    "acess_token = get_Zoho_Oauthtoken(\n",
    "    code='1000.5303733e5572fb225ecd30e7c1c61972.9c60d72644329290e72268cc06bd6eb9')"
   ]
  },
  {
   "cell_type": "code",
   "execution_count": 19,
   "metadata": {},
   "outputs": [
    {
     "data": {
      "text/plain": [
       "'1000.b85e37be1df720ad69db37c04e3a77b7.e256585783abe9fd3d813e8b5536a604'"
      ]
     },
     "execution_count": 19,
     "metadata": {},
     "output_type": "execute_result"
    }
   ],
   "source": [
    "acess_token.json()['access_token']"
   ]
  },
  {
   "cell_type": "code",
   "execution_count": 20,
   "metadata": {},
   "outputs": [],
   "source": [
    "response = get_interface(oauth_token=acess_token.json()[\n",
    "                         'access_token'], interface='tickets')"
   ]
  },
  {
   "cell_type": "code",
   "execution_count": 21,
   "metadata": {},
   "outputs": [
    {
     "data": {
      "text/plain": [
       "b'{\"data\":[{\"id\":\"365059000082171001\",\"ticketNumber\":\"31429\",\"layoutId\":\"365059000000074011\",\"email\":\"ederfrederici@gmail.com\",\"phone\":\"93 3528-2123\",\"subject\":\"Comercial - Troca/Devolu\\xc3\\xa7\\xc3\\xa3o - NF 105930 \",\"status\":\"Aberto\",\"statusType\":\"Open\",\"createdTime\":\"2023-06-13T12:31:37.000Z\",\"category\":\"Preencher info\",\"language\":\"Portuguese\",\"subCategory\":null,\"priority\":null,\"channel\":\"Whatsapp\",\"dueDate\":\"2023-07-20T16:17:00.000Z\",\"responseDueDate\":null,\"commentCount\":\"11\",\"sentiment\":\"NEUTRAL\",\"threadCount\":\"29\",\"closedTime\":null,\"onholdTime\":null,\"departmentId\":\"365059000000006907\",\"contactId\":\"365059000000959735\",\"productId\":\"365059000049198001\",\"assigneeId\":\"365059000075894283\",\"teamId\":null,\"channelCode\":null,\"webUrl\":\"https://suporte.neosolar.com.br/support/neosolar215/ShowHomePage.do#Cases/dv/365059000082171001\",\"lastThread\":{\"channel\":\"EMAIL\",\"isDraft\":false,\"isForward\":false,\"direction\":\"in\"},\"customerResponseTime\":\"2023-07-23T21:52:13.000Z\",\"isArchived\":false,\"source\":{\"appName\":null,\"appPhotoURL\":null,\"permalink\":null,\"type\":\"SYSTEM\",\"extId\":null},\"isSpam\":false},{\"id\":\"365059000084231019\",\"ticketNumber\":\"31954\",\"layoutId\":\"365059000000074011\",\"email\":\"reginaldobatista98@gmail.com\",\"phone\":\"31 98436-8234\",\"subject\":\"Garantia - NF 87959 \",\"status\":\"Aberto\",\"statusType\":\"Open\",\"createdTime\":\"2023-07-04T14:05:45.000Z\",\"category\":\"Preencher info\",\"language\":null,\"subCategory\":null,\"priority\":\"Urgent\",\"channel\":\"Whatsapp\",\"dueDate\":\"2023-07-18T16:38:00.000Z\",\"responseDueDate\":null,\"commentCount\":\"10\",\"sentiment\":null,\"threadCount\":\"17\",\"closedTime\":null,\"onholdTime\":null,\"departmentId\":\"365059000000006907\",\"contactId\":\"365059000031971412\",\"productId\":\"365059000042448774\",\"assigneeId\":\"365059000076531039\",\"teamId\":null,\"channelCode\":null,\"webUrl\":\"https://suporte.neosolar.com.br/support/neosolar215/ShowHomePage.do#Cases/dv/365059000084231019\",\"lastThread\":{\"channel\":\"EMAIL\",\"isDraft\":false,\"isForward\":false,\"direction\":\"in\"},\"customerResponseTime\":\"2023-07-23T16:29:01.000Z\",\"isArchived\":false,\"source\":{\"appName\":null,\"appPhotoURL\":null,\"permalink\":null,\"type\":\"SYSTEM\",\"extId\":null},\"isSpam\":false},{\"id\":\"365059000084537065\",\"ticketNumber\":\"32099\",\"layoutId\":\"365059000000074011\",\"email\":\"jose.aliezio@gmail.com\",\"phone\":null,\"subject\":\"Garantia - NF 107673 \",\"status\":\"Aberto\",\"statusType\":\"Open\",\"createdTime\":\"2023-07-10T20:31:53.000Z\",\"category\":\"Preencher info\",\"language\":null,\"subCategory\":null,\"priority\":null,\"channel\":\"Whatsapp\",\"dueDate\":\"2023-07-18T19:06:00.000Z\",\"responseDueDate\":null,\"commentCount\":\"18\",\"sentiment\":null,\"threadCount\":\"11\",\"closedTime\":null,\"onholdTime\":null,\"departmentId\":\"365059000000006907\",\"contactId\":\"365059000084505023\",\"productId\":\"365059000060906190\",\"assigneeId\":\"365059000062444248\",\"teamId\":null,\"channelCode\":null,\"webUrl\":\"https://suporte.neosolar.com.br/support/neosolar215/ShowHomePage.do#Cases/dv/365059000084537065\",\"lastThread\":{\"channel\":\"EMAIL\",\"isDraft\":false,\"isForward\":false,\"direction\":\"in\"},\"customerResponseTime\":\"2023-07-23T14:53:00.000Z\",\"isArchived\":false,\"source\":{\"appName\":null,\"appPhotoURL\":null,\"permalink\":null,\"type\":\"SYSTEM\",\"extId\":null},\"isSpam\":false},{\"id\":\"365059000085567007\",\"ticketNumber\":\"32317\",\"layoutId\":\"365059000000074011\",\"email\":\"pedropngj@gmail.com\",\"phone\":\"329199-7720\",\"subject\":\"Atraso na entrega - NF 5175 \",\"status\":\"Aberto\",\"statusType\":\"Open\",\"createdTime\":\"2023-07-21T13:35:22.000Z\",\"category\":\"Preencher info\",\"language\":\"Portuguese\",\"subCategory\":null,\"priority\":\"Urgent\",\"channel\":\"Whatsapp\",\"dueDate\":\"2023-07-25T18:20:00.000Z\",\"responseDueDate\":null,\"commentCount\":\"2\",\"sentiment\":\"NEGATIVE\",\"threadCount\":\"18\",\"closedTime\":null,\"onholdTime\":null,\"departmentId\":\"365059000000006907\",\"contactId\":\"365059000085555247\",\"productId\":null,\"assigneeId\":\"365059000062487001\",\"teamId\":null,\"channelCode\":null,\"webUrl\":\"https://suporte.neosolar.com.br/support/neosolar215/ShowHomePage.do#Cases/dv/365059000085567007\",\"lastThread\":{\"channel\":\"EMAIL\",\"isDraft\":false,\"isForward\":false,\"direction\":\"in\"},\"customerResponseTime\":\"2023-07-23T13:35:40.000Z\",\"isArchived\":false,\"source\":{\"appName\":null,\"appPhotoURL\":null,\"permalink\":null,\"type\":\"SYSTEM\",\"extId\":null},\"isSpam\":false},{\"id\":\"365059000084220292\",\"ticketNumber\":\"31968\",\"layoutId\":\"365059000000074011\",\"email\":\"machadodcmatheus@gmail.com\",\"phone\":null,\"subject\":\"Garantia - NF 98765 \",\"status\":\"Aberto\",\"statusType\":\"Open\",\"createdTime\":\"2023-07-04T18:43:07.000Z\",\"category\":\"Preencher info\",\"language\":\"Portuguese\",\"subCategory\":null,\"priority\":\"Urgent\",\"channel\":\"Whatsapp\",\"dueDate\":\"2023-07-18T17:03:00.000Z\",\"responseDueDate\":null,\"commentCount\":\"9\",\"sentiment\":null,\"threadCount\":\"15\",\"closedTime\":null,\"onholdTime\":null,\"departmentId\":\"365059000000006907\",\"contactId\":\"365059000084271325\",\"productId\":\"365059000078687039\",\"assigneeId\":\"365059000062444248\",\"teamId\":null,\"channelCode\":null,\"webUrl\":\"https://suporte.neosolar.com.br/support/neosolar215/ShowHomePage.do#Cases/dv/365059000084220292\",\"lastThread\":{\"channel\":\"EMAIL\",\"isDraft\":false,\"isForward\":false,\"direction\":\"in\"},\"customerResponseTime\":\"2023-07-23T00:56:41.000Z\",\"isArchived\":false,\"source\":{\"appName\":null,\"appPhotoURL\":null,\"permalink\":null,\"type\":\"SYSTEM\",\"extId\":null},\"isSpam\":false},{\"id\":\"365059000066931024\",\"ticketNumber\":\"26468\",\"layoutId\":\"365059000000074011\",\"email\":\"Aluiziojunior_gomes@hotmail.com\",\"phone\":\"558798053056\",\"subject\":\"Defeito em produto - NF 91300\",\"status\":\"Aguardando teste lab Neosolar\",\"statusType\":\"Open\",\"createdTime\":\"2022-11-18T18:51:59.000Z\",\"category\":\"Preencher info\",\"language\":\"Portuguese\",\"subCategory\":null,\"priority\":null,\"channel\":\"Email\",\"dueDate\":\"2023-07-19T18:11:00.000Z\",\"responseDueDate\":null,\"commentCount\":\"15\",\"sentiment\":null,\"threadCount\":\"36\",\"closedTime\":null,\"onholdTime\":null,\"departmentId\":\"365059000000006907\",\"contactId\":\"365059000031647123\",\"productId\":\"365059000042448742\",\"assigneeId\":\"365059000047673001\",\"teamId\":null,\"channelCode\":null,\"webUrl\":\"https://suporte.neosolar.com.br/support/neosolar215/ShowHomePage.do#Cases/dv/365059000066931024\",\"lastThread\":{\"channel\":\"EMAIL\",\"isDraft\":false,\"isForward\":false,\"direction\":\"in\"},\"customerResponseTime\":\"2023-07-22T23:18:54.000Z\",\"isArchived\":false,\"source\":{\"appName\":null,\"appPhotoURL\":null,\"permalink\":null,\"type\":\"SYSTEM\",\"extId\":null},\"isSpam\":false},{\"id\":\"365059000085318238\",\"ticketNumber\":\"32276\",\"layoutId\":\"365059000000074011\",\"email\":\"fws360@gmail.com\",\"phone\":null,\"subject\":\"Garantia - NF 86722 \",\"status\":\"Aberto\",\"statusType\":\"Open\",\"createdTime\":\"2023-07-19T13:51:22.000Z\",\"category\":\"Preencher info\",\"language\":\"Portuguese\",\"subCategory\":null,\"priority\":null,\"channel\":\"Whatsapp\",\"dueDate\":\"2023-07-26T16:40:00.000Z\",\"responseDueDate\":null,\"commentCount\":\"4\",\"sentiment\":null,\"threadCount\":\"4\",\"closedTime\":null,\"onholdTime\":null,\"departmentId\":\"365059000000006907\",\"contactId\":\"365059000060156837\",\"productId\":\"365059000074728037\",\"assigneeId\":\"365059000076531039\",\"teamId\":null,\"channelCode\":null,\"webUrl\":\"https://suporte.neosolar.com.br/support/neosolar215/ShowHomePage.do#Cases/dv/365059000085318238\",\"lastThread\":{\"channel\":\"EMAIL\",\"isDraft\":false,\"isForward\":false,\"direction\":\"in\"},\"customerResponseTime\":\"2023-07-22T20:46:13.000Z\",\"isArchived\":false,\"source\":{\"appName\":null,\"appPhotoURL\":null,\"permalink\":null,\"type\":\"SYSTEM\",\"extId\":null},\"isSpam\":false},{\"id\":\"365059000067281045\",\"ticketNumber\":\"26550\",\"layoutId\":\"365059000000074011\",\"email\":\"limmaia60@gmail.com\",\"phone\":\"559384332330\",\"subject\":\"DEFEITO EM PRODUTO - NF 77784\",\"status\":\"Aberto\",\"statusType\":\"Open\",\"createdTime\":\"2022-11-22T20:10:10.000Z\",\"category\":\"Preencher info\",\"language\":null,\"subCategory\":null,\"priority\":null,\"channel\":\"Email\",\"dueDate\":\"2022-12-01T14:17:00.000Z\",\"responseDueDate\":null,\"commentCount\":\"8\",\"sentiment\":null,\"threadCount\":\"27\",\"closedTime\":null,\"onholdTime\":null,\"departmentId\":\"365059000000006907\",\"contactId\":\"365059000067259711\",\"productId\":\"365059000061498001\",\"assigneeId\":\"365059000062487001\",\"teamId\":null,\"channelCode\":null,\"webUrl\":\"https://suporte.neosolar.com.br/support/neosolar215/ShowHomePage.do#Cases/dv/365059000067281045\",\"lastThread\":{\"channel\":\"EMAIL\",\"isDraft\":false,\"isForward\":false,\"direction\":\"in\"},\"customerResponseTime\":\"2023-07-22T15:46:33.000Z\",\"isArchived\":false,\"source\":{\"appName\":null,\"appPhotoURL\":null,\"permalink\":null,\"type\":\"SYSTEM\",\"extId\":null},\"isSpam\":false},{\"id\":\"365059000085228001\",\"ticketNumber\":\"32244\",\"layoutId\":\"365059000000074011\",\"email\":\"Leandro.cuelbas@egati.com.br\",\"phone\":null,\"subject\":\"Extravio - NF 108086 \",\"status\":\"Aberto\",\"statusType\":\"Open\",\"createdTime\":\"2023-07-18T12:31:04.000Z\",\"category\":\"Preencher info\",\"language\":null,\"subCategory\":null,\"priority\":null,\"channel\":\"Phone\",\"dueDate\":\"2023-07-18T22:00:00.000Z\",\"responseDueDate\":null,\"commentCount\":\"8\",\"sentiment\":null,\"threadCount\":\"15\",\"closedTime\":null,\"onholdTime\":null,\"departmentId\":\"365059000000006907\",\"contactId\":\"365059000084413601\",\"productId\":\"365059000085225001\",\"assigneeId\":\"365059000075894283\",\"teamId\":null,\"channelCode\":null,\"webUrl\":\"https://suporte.neosolar.com.br/support/neosolar215/ShowHomePage.do#Cases/dv/365059000085228001\",\"lastThread\":{\"channel\":\"EMAIL\",\"isDraft\":false,\"isForward\":false,\"direction\":\"in\"},\"customerResponseTime\":\"2023-07-22T13:06:39.000Z\",\"isArchived\":false,\"source\":{\"appName\":null,\"appPhotoURL\":null,\"permalink\":null,\"type\":\"SYSTEM\",\"extId\":null},\"isSpam\":false},{\"id\":\"365059000085071095\",\"ticketNumber\":\"32233\",\"layoutId\":\"365059000000074011\",\"email\":\"ELETRO@SOARESMAQUINAS.COM.BR\",\"phone\":null,\"subject\":\"Garantia - NF 653 \",\"status\":\"Aberto\",\"statusType\":\"Open\",\"createdTime\":\"2023-07-17T18:55:26.000Z\",\"category\":null,\"language\":null,\"subCategory\":null,\"priority\":null,\"channel\":\"Web\",\"dueDate\":\"2023-07-25T20:22:00.000Z\",\"responseDueDate\":null,\"commentCount\":\"7\",\"sentiment\":null,\"threadCount\":\"9\",\"closedTime\":null,\"onholdTime\":null,\"departmentId\":\"365059000000006907\",\"contactId\":\"365059000015451413\",\"productId\":\"365059000000448389\",\"assigneeId\":\"365059000075894283\",\"teamId\":null,\"channelCode\":null,\"webUrl\":\"https://suporte.neosolar.com.br/support/neosolar215/ShowHomePage.do#Cases/dv/365059000085071095\",\"lastThread\":{\"channel\":\"EMAIL\",\"isDraft\":false,\"isForward\":false,\"direction\":\"in\"},\"customerResponseTime\":\"2023-07-22T12:43:21.000Z\",\"isArchived\":false,\"source\":{\"appName\":null,\"appPhotoURL\":null,\"permalink\":null,\"type\":\"SYSTEM\",\"extId\":null},\"isSpam\":false},{\"id\":\"365059000084513001\",\"ticketNumber\":\"32076\",\"layoutId\":\"365059000000074011\",\"email\":\"edulopes167@gmail.com\",\"phone\":\"19996689710\",\"subject\":\"Atraso na entrega - NF 5168 \",\"status\":\"Aberto\",\"statusType\":\"Open\",\"createdTime\":\"2023-07-10T12:40:46.000Z\",\"category\":\"Preencher info\",\"language\":null,\"subCategory\":null,\"priority\":null,\"channel\":\"Phone\",\"dueDate\":\"2023-07-11T22:00:00.000Z\",\"responseDueDate\":null,\"commentCount\":\"2\",\"sentiment\":null,\"threadCount\":\"10\",\"closedTime\":null,\"onholdTime\":null,\"departmentId\":\"365059000000006907\",\"contactId\":\"365059000083121201\",\"productId\":null,\"assigneeId\":\"365059000062487001\",\"teamId\":null,\"channelCode\":null,\"webUrl\":\"https://suporte.neosolar.com.br/support/neosolar215/ShowHomePage.do#Cases/dv/365059000084513001\",\"lastThread\":{\"channel\":\"EMAIL\",\"isDraft\":false,\"isForward\":false,\"direction\":\"in\"},\"customerResponseTime\":\"2023-07-22T09:25:05.000Z\",\"isArchived\":false,\"source\":{\"appName\":null,\"appPhotoURL\":null,\"permalink\":null,\"type\":\"SYSTEM\",\"extId\":null},\"isSpam\":false},{\"id\":\"365059000085106023\",\"ticketNumber\":\"32224\",\"layoutId\":\"365059000000074011\",\"email\":\"marcus@krasner.com.br\",\"phone\":null,\"subject\":\"Avaria na entrega - NF 108270 \",\"status\":\"Aberto\",\"statusType\":\"Open\",\"createdTime\":\"2023-07-17T15:45:42.000Z\",\"category\":\"Preencher info\",\"language\":\"Portuguese\",\"subCategory\":null,\"priority\":\"Urgent\",\"channel\":\"Whatsapp\",\"dueDate\":\"2023-07-28T21:46:00.000Z\",\"responseDueDate\":null,\"commentCount\":\"12\",\"sentiment\":null,\"threadCount\":\"9\",\"closedTime\":null,\"onholdTime\":null,\"departmentId\":\"365059000000006907\",\"contactId\":\"365059000075136349\",\"productId\":\"365059000072275481\",\"assigneeId\":\"365059000070398073\",\"teamId\":\"365059000037290027\",\"channelCode\":null,\"webUrl\":\"https://suporte.neosolar.com.br/support/neosolar215/ShowHomePage.do#Cases/dv/365059000085106023\",\"lastThread\":{\"channel\":\"EMAIL\",\"isDraft\":false,\"isForward\":false,\"direction\":\"in\"},\"customerResponseTime\":\"2023-07-21T23:06:42.000Z\",\"isArchived\":false,\"source\":{\"appName\":null,\"appPhotoURL\":null,\"permalink\":null,\"type\":\"SYSTEM\",\"extId\":null},\"isSpam\":false},{\"id\":\"365059000085370243\",\"ticketNumber\":\"32288\",\"layoutId\":\"365059000000074011\",\"email\":\"fs.unipac@hotmail.com\",\"phone\":\"+5534999630127\",\"subject\":\"Avaria na entrega - NF 5190 \",\"status\":\"Aberto\",\"statusType\":\"Open\",\"createdTime\":\"2023-07-19T19:02:53.000Z\",\"category\":\"Preencher info\",\"language\":null,\"subCategory\":null,\"priority\":\"High\",\"channel\":\"Whatsapp\",\"dueDate\":\"2023-07-28T21:59:00.000Z\",\"responseDueDate\":null,\"commentCount\":\"4\",\"sentiment\":null,\"threadCount\":\"3\",\"closedTime\":null,\"onholdTime\":null,\"departmentId\":\"365059000000006907\",\"contactId\":\"365059000030387583\",\"productId\":\"365059000069519276\",\"assigneeId\":\"365059000062487001\",\"teamId\":null,\"channelCode\":null,\"webUrl\":\"https://suporte.neosolar.com.br/support/neosolar215/ShowHomePage.do#Cases/dv/365059000085370243\",\"lastThread\":{\"channel\":\"EMAIL\",\"isDraft\":false,\"isForward\":false,\"direction\":\"in\"},\"customerResponseTime\":\"2023-07-21T22:03:54.000Z\",\"isArchived\":false,\"source\":{\"appName\":null,\"appPhotoURL\":null,\"permalink\":null,\"type\":\"SYSTEM\",\"extId\":null},\"isSpam\":false},{\"id\":\"365059000084951430\",\"ticketNumber\":\"32200\",\"layoutId\":\"365059000000074011\",\"email\":\"roberes.vieira@hotmail.com\",\"phone\":\"21 99086-8615\",\"subject\":\"Diverg\\xc3\\xaancia na entrega - NF 107916 \",\"status\":\"Aberto\",\"statusType\":\"Open\",\"createdTime\":\"2023-07-14T18:39:11.000Z\",\"category\":\"Preencher info\",\"language\":null,\"subCategory\":null,\"priority\":null,\"channel\":\"Email\",\"dueDate\":\"2023-07-24T19:17:00.000Z\",\"responseDueDate\":null,\"commentCount\":\"6\",\"sentiment\":null,\"threadCount\":\"8\",\"closedTime\":null,\"onholdTime\":null,\"departmentId\":\"365059000000006907\",\"contactId\":\"365059000084890119\",\"productId\":null,\"assigneeId\":\"365059000075894283\",\"teamId\":null,\"channelCode\":null,\"webUrl\":\"https://suporte.neosolar.com.br/support/neosolar215/ShowHomePage.do#Cases/dv/365059000084951430\",\"lastThread\":{\"channel\":\"EMAIL\",\"isDraft\":false,\"isForward\":false,\"direction\":\"in\"},\"customerResponseTime\":\"2023-07-21T21:43:21.000Z\",\"isArchived\":false,\"source\":{\"appName\":null,\"appPhotoURL\":null,\"permalink\":null,\"type\":\"SYSTEM\",\"extId\":null},\"isSpam\":false},{\"id\":\"365059000081508903\",\"ticketNumber\":\"31304\",\"layoutId\":\"365059000000074011\",\"email\":\"suporte@digitalconect.com.br\",\"phone\":null,\"subject\":\"DEFEITO EM PRODUTO - NF 103765\",\"status\":\"Aberto\",\"statusType\":\"Open\",\"createdTime\":\"2023-06-02T18:11:12.000Z\",\"category\":\"Preencher info\",\"language\":null,\"subCategory\":null,\"priority\":null,\"channel\":\"Whatsapp\",\"dueDate\":\"2023-06-09T18:53:00.000Z\",\"responseDueDate\":null,\"commentCount\":\"38\",\"sentiment\":\"NEGATIVE\",\"threadCount\":\"31\",\"closedTime\":null,\"onholdTime\":null,\"departmentId\":\"365059000000006907\",\"contactId\":\"365059000047105004\",\"productId\":\"365059000048903042\",\"assigneeId\":\"365059000062487001\",\"teamId\":null,\"channelCode\":null,\"webUrl\":\"https://suporte.neosolar.com.br/support/neosolar215/ShowHomePage.do#Cases/dv/365059000081508903\",\"lastThread\":{\"channel\":\"EMAIL\",\"isDraft\":false,\"isForward\":false,\"direction\":\"in\"},\"customerResponseTime\":\"2023-07-21T21:23:02.000Z\",\"isArchived\":false,\"source\":{\"appName\":null,\"appPhotoURL\":null,\"permalink\":null,\"type\":\"SYSTEM\",\"extId\":null},\"isSpam\":false},{\"id\":\"365059000085588163\",\"ticketNumber\":\"32338\",\"layoutId\":\"365059000000074011\",\"email\":\"luizalexandre27@gmail.com\",\"phone\":null,\"subject\":\"Diverg\\xc3\\xaancia na entrega - NF 108469 \",\"status\":\"Em tratativa SAC\",\"statusType\":\"Open\",\"createdTime\":\"2023-07-21T21:13:09.000Z\",\"category\":\"Preencher info\",\"language\":\"Portuguese\",\"subCategory\":null,\"priority\":null,\"channel\":\"Email\",\"dueDate\":\"2023-07-26T21:13:00.000Z\",\"responseDueDate\":null,\"commentCount\":\"1\",\"sentiment\":null,\"threadCount\":\"2\",\"closedTime\":null,\"onholdTime\":null,\"departmentId\":\"365059000000006907\",\"contactId\":\"365059000084600095\",\"productId\":null,\"assigneeId\":\"365059000027963007\",\"teamId\":null,\"channelCode\":null,\"webUrl\":\"https://suporte.neosolar.com.br/support/neosolar215/ShowHomePage.do#Cases/dv/365059000085588163\",\"lastThread\":{\"channel\":\"EMAIL\",\"isDraft\":false,\"isForward\":false,\"direction\":\"out\"},\"customerResponseTime\":\"2023-07-21T21:13:09.000Z\",\"isArchived\":false,\"source\":{\"appName\":null,\"appPhotoURL\":null,\"permalink\":null,\"type\":\"SYSTEM\",\"extId\":null},\"isSpam\":false},{\"id\":\"365059000085551789\",\"ticketNumber\":\"32337\",\"layoutId\":\"365059000000074011\",\"email\":\"sabrina@transmaj.com.br\",\"phone\":null,\"subject\":\"F\\xc3\\xa9rias\",\"status\":\"Aberto\",\"statusType\":\"Open\",\"createdTime\":\"2023-07-21T21:06:25.000Z\",\"category\":null,\"language\":\"Portuguese\",\"subCategory\":null,\"priority\":null,\"channel\":\"Email\",\"dueDate\":\"2023-07-25T21:06:24.000Z\",\"responseDueDate\":\"2023-07-24T20:07:00.000Z\",\"commentCount\":\"0\",\"sentiment\":null,\"threadCount\":\"1\",\"closedTime\":null,\"onholdTime\":null,\"departmentId\":\"365059000000006907\",\"contactId\":\"365059000036217796\",\"productId\":null,\"assigneeId\":\"365059000070398073\",\"teamId\":\"365059000037290027\",\"channelCode\":null,\"webUrl\":\"https://suporte.neosolar.com.br/support/neosolar215/ShowHomePage.do#Cases/dv/365059000085551789\",\"lastThread\":{\"channel\":\"EMAIL\",\"isDraft\":false,\"isForward\":false,\"direction\":\"in\"},\"customerResponseTime\":\"2023-07-21T21:06:24.000Z\",\"isArchived\":false,\"source\":{\"appName\":null,\"appPhotoURL\":null,\"permalink\":null,\"type\":\"SYSTEM\",\"extId\":null},\"isSpam\":false},{\"id\":\"365059000085629082\",\"ticketNumber\":\"32336\",\"layoutId\":\"365059000000074011\",\"email\":\"sabrina@transmaj.com.br\",\"phone\":null,\"subject\":\"F\\xc3\\xa9rias\",\"status\":\"Aberto\",\"statusType\":\"Open\",\"createdTime\":\"2023-07-21T21:05:34.000Z\",\"category\":null,\"language\":\"Portuguese\",\"subCategory\":null,\"priority\":null,\"channel\":\"Email\",\"dueDate\":\"2023-07-25T21:05:33.000Z\",\"responseDueDate\":\"2023-07-24T20:06:00.000Z\",\"commentCount\":\"0\",\"sentiment\":null,\"threadCount\":\"1\",\"closedTime\":null,\"onholdTime\":null,\"departmentId\":\"365059000000006907\",\"contactId\":\"365059000036217796\",\"productId\":null,\"assigneeId\":\"365059000070376021\",\"teamId\":\"365059000037290027\",\"channelCode\":null,\"webUrl\":\"https://suporte.neosolar.com.br/support/neosolar215/ShowHomePage.do#Cases/dv/365059000085629082\",\"lastThread\":{\"channel\":\"EMAIL\",\"isDraft\":false,\"isForward\":false,\"direction\":\"in\"},\"customerResponseTime\":\"2023-07-21T21:05:33.000Z\",\"isArchived\":false,\"source\":{\"appName\":null,\"appPhotoURL\":null,\"permalink\":null,\"type\":\"SYSTEM\",\"extId\":null},\"isSpam\":false},{\"id\":\"365059000085551615\",\"ticketNumber\":\"32335\",\"layoutId\":\"365059000000074011\",\"email\":\"sabrina@transmaj.com.br\",\"phone\":null,\"subject\":\"F\\xc3\\xa9rias\",\"status\":\"Aberto\",\"statusType\":\"Open\",\"createdTime\":\"2023-07-21T21:04:43.000Z\",\"category\":null,\"language\":\"Portuguese\",\"subCategory\":null,\"priority\":null,\"channel\":\"Email\",\"dueDate\":\"2023-07-25T21:04:43.000Z\",\"responseDueDate\":\"2023-07-24T20:05:00.000Z\",\"commentCount\":\"0\",\"sentiment\":null,\"threadCount\":\"1\",\"closedTime\":null,\"onholdTime\":null,\"departmentId\":\"365059000000006907\",\"contactId\":\"365059000036217796\",\"productId\":null,\"assigneeId\":\"365059000070398073\",\"teamId\":\"365059000037290027\",\"channelCode\":null,\"webUrl\":\"https://suporte.neosolar.com.br/support/neosolar215/ShowHomePage.do#Cases/dv/365059000085551615\",\"lastThread\":{\"channel\":\"EMAIL\",\"isDraft\":false,\"isForward\":false,\"direction\":\"in\"},\"customerResponseTime\":\"2023-07-21T21:04:43.000Z\",\"isArchived\":false,\"source\":{\"appName\":null,\"appPhotoURL\":null,\"permalink\":null,\"type\":\"SYSTEM\",\"extId\":null},\"isSpam\":false},{\"id\":\"365059000085625036\",\"ticketNumber\":\"32334\",\"layoutId\":\"365059000000074011\",\"email\":\"sabrina@transmaj.com.br\",\"phone\":null,\"subject\":\"F\\xc3\\xa9rias\",\"status\":\"Aberto\",\"statusType\":\"Open\",\"createdTime\":\"2023-07-21T21:03:51.000Z\",\"category\":null,\"language\":\"Portuguese\",\"subCategory\":null,\"priority\":null,\"channel\":\"Email\",\"dueDate\":\"2023-07-25T21:03:51.000Z\",\"responseDueDate\":\"2023-07-24T20:04:00.000Z\",\"commentCount\":\"0\",\"sentiment\":null,\"threadCount\":\"1\",\"closedTime\":null,\"onholdTime\":null,\"departmentId\":\"365059000000006907\",\"contactId\":\"365059000036217796\",\"productId\":null,\"assigneeId\":\"365059000070376021\",\"teamId\":\"365059000037290027\",\"channelCode\":null,\"webUrl\":\"https://suporte.neosolar.com.br/support/neosolar215/ShowHomePage.do#Cases/dv/365059000085625036\",\"lastThread\":{\"channel\":\"EMAIL\",\"isDraft\":false,\"isForward\":false,\"direction\":\"in\"},\"customerResponseTime\":\"2023-07-21T21:03:51.000Z\",\"isArchived\":false,\"source\":{\"appName\":null,\"appPhotoURL\":null,\"permalink\":null,\"type\":\"SYSTEM\",\"extId\":null},\"isSpam\":false}]}'"
      ]
     },
     "execution_count": 21,
     "metadata": {},
     "output_type": "execute_result"
    }
   ],
   "source": [
    "response.content"
   ]
  },
  {
   "cell_type": "code",
   "execution_count": 22,
   "metadata": {},
   "outputs": [],
   "source": [
    "class ZohoDesk:\n",
    "    \"\"\"\"\"\"\n",
    "    client_id: str = '1000.T6LDKB524O263IW5YWAH741EGWJ0OV',\n",
    "    client_secret: str = 'f4271109effcb2e4ca78d227ccf854e881089e8270'\n",
    "\n",
    "    def get_Zoho_Oauthtoken(\n",
    "        client_id: str = client_id,\n",
    "        client_secret: str = client_secret,\n",
    "        code: str = None\n",
    "    ) -> object:\n",
    "        \"\"\"Retorna um objeto _reponse_ contendo o Zoho_Oauthtoken\n",
    "\n",
    "        Parameters\n",
    "        ----------\n",
    "        client_id: str\n",
    "        client_secret: str\n",
    "        code: str\n",
    "\n",
    "        Returns\n",
    "        -------\n",
    "        ZohoOauthtoken: object\n",
    "        \"\"\"\n",
    "        auth_url = 'https://accounts.zoho.com/oauth/v2/token'\n",
    "        params = {\n",
    "            'code': code,\n",
    "            'client_id': client_id,\n",
    "            'client_secret': client_secret,\n",
    "            'grant_type':  \t'authorization_code',\n",
    "            'redirect_uri': ''\n",
    "        }\n",
    "\n",
    "        r = httpx.post(url=auth_url, params=params)\n",
    "\n",
    "        if r.status_code == 200:\n",
    "            return r\n",
    "\n",
    "    def get_interface(\n",
    "        oauth_token: str = None,\n",
    "        interface: str = None,\n",
    "        query_params: Dict[str, str] = None,\n",
    "        service: str = None\n",
    "    ) -> object:\n",
    "        \"\"\"Requisita um _endpoint_ da API do Zoho Desk\n",
    "\n",
    "        Parameters\n",
    "        ----------\n",
    "        oauth_token: str\n",
    "        interface: str, \n",
    "        query_params: str, \n",
    "        service: str\n",
    "\n",
    "        Returns\n",
    "\n",
    "        response: object\n",
    "        -------\n",
    "        \"\"\"\n",
    "        url = f'https://desk.zoho.com/api/v1/{interface}'\n",
    "        headers = {\n",
    "            \"authorization\": f\"Zoho-Oauthtoken {oauth_token}\"\n",
    "        }\n",
    "        r = httpx.get(url=url, headers=headers, params=query_params)\n",
    "\n",
    "        if r.status_code == 200:\n",
    "            return r"
   ]
  },
  {
   "cell_type": "code",
   "execution_count": 27,
   "metadata": {},
   "outputs": [],
   "source": [
    "api = ZohoDesk()"
   ]
  },
  {
   "cell_type": "code",
   "execution_count": 28,
   "metadata": {},
   "outputs": [],
   "source": [
    "api.get_Zoho_Oauthtoken(\n",
    "    code='1000.5303733e5572fb225ecd30e7c1c61972.9c60d72644329290e72268cc06bd6eb9')"
   ]
  },
  {
   "cell_type": "code",
   "execution_count": null,
   "metadata": {},
   "outputs": [],
   "source": []
  }
 ],
 "metadata": {
  "kernelspec": {
   "display_name": "Python 3",
   "language": "python",
   "name": "python3"
  },
  "language_info": {
   "codemirror_mode": {
    "name": "ipython",
    "version": 3
   },
   "file_extension": ".py",
   "mimetype": "text/x-python",
   "name": "python",
   "nbconvert_exporter": "python",
   "pygments_lexer": "ipython3",
   "version": "3.10.4"
  },
  "orig_nbformat": 4
 },
 "nbformat": 4,
 "nbformat_minor": 2
}
